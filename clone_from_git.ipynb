{
  "nbformat": 4,
  "nbformat_minor": 0,
  "metadata": {
    "colab": {
      "name": "clone from git.ipynb",
      "version": "0.3.2",
      "provenance": [],
      "collapsed_sections": [],
      "include_colab_link": true
    },
    "kernelspec": {
      "name": "python3",
      "display_name": "Python 3"
    }
  },
  "cells": [
    {
      "cell_type": "markdown",
      "metadata": {
        "id": "view-in-github",
        "colab_type": "text"
      },
      "source": [
        "<a href=\"https://colab.research.google.com/github/UnixLoverSaurabh/TensorFlow-Tutorials/blob/master/clone_from_git.ipynb\" target=\"_parent\"><img src=\"https://colab.research.google.com/assets/colab-badge.svg\" alt=\"Open In Colab\"/></a>"
      ]
    },
    {
      "metadata": {
        "id": "JujgLVPaRSOT",
        "colab_type": "code",
        "colab": {
          "base_uri": "https://localhost:8080/",
          "height": 34
        },
        "outputId": "0e998842-b94f-430e-c0fe-1adc75a61231"
      },
      "cell_type": "code",
      "source": [
        "import os \n",
        "work_dir = \"/content/TensorFlow-Tutorials/\" \n",
        "if os.getcwd() != work_dir: \n",
        "  !git clone https://github.com/UnixLoverSaurabh/TensorFlow-Tutorials.git\n",
        "os.chdir(work_dir)"
      ],
      "execution_count": 4,
      "outputs": [
        {
          "output_type": "stream",
          "text": [
            "fatal: destination path 'TensorFlow-Tutorials' already exists and is not an empty directory.\n"
          ],
          "name": "stdout"
        }
      ]
    },
    {
      "metadata": {
        "id": "Vc7df4rcTZbS",
        "colab_type": "code",
        "colab": {
          "base_uri": "https://localhost:8080/",
          "height": 34
        },
        "outputId": "7ac9f800-d2c8-4752-e3df-4bcc784f89ed"
      },
      "cell_type": "code",
      "source": [
        "os.getcwd()   "
      ],
      "execution_count": 5,
      "outputs": [
        {
          "output_type": "execute_result",
          "data": {
            "text/plain": [
              "'/content/TensorFlow-Tutorials'"
            ]
          },
          "metadata": {
            "tags": []
          },
          "execution_count": 5
        }
      ]
    },
    {
      "metadata": {
        "id": "gxKAhxg3Taxe",
        "colab_type": "code",
        "colab": {
          "base_uri": "https://localhost:8080/",
          "height": 885
        },
        "outputId": "6f8f12d0-db74-4e38-e77b-f8d31b792a28"
      },
      "cell_type": "code",
      "source": [
        "os.listdir(work_dir) "
      ],
      "execution_count": 6,
      "outputs": [
        {
          "output_type": "execute_result",
          "data": {
            "text/plain": [
              "['reinforcement_learning.py',\n",
              " '11_Adversarial_Examples.ipynb',\n",
              " '10_Fine-Tuning.ipynb',\n",
              " 'forks.md',\n",
              " '09_Video_Data.ipynb',\n",
              " '13_Visual_Analysis.ipynb',\n",
              " '23_Time-Series-Prediction.ipynb',\n",
              " 'dataset.py',\n",
              " '04_Save_Restore.ipynb',\n",
              " '20_Natural_Language_Processing.ipynb',\n",
              " '12_Adversarial_Noise_MNIST.ipynb',\n",
              " '18_TFRecords_Dataset_API.ipynb',\n",
              " 'inception.py',\n",
              " 'LICENSE',\n",
              " '03C_Keras_API.ipynb',\n",
              " '17_Estimator_API.ipynb',\n",
              " 'README.md',\n",
              " 'imdb.py',\n",
              " 'mnist.py',\n",
              " '14_DeepDream.ipynb',\n",
              " '15_Style_Transfer.ipynb',\n",
              " '.git',\n",
              " 'inception5h.py',\n",
              " 'requirements.txt',\n",
              " 'convert.py',\n",
              " 'TensorFlow-Tutorials',\n",
              " '16_Reinforcement_Learning.ipynb',\n",
              " 'vgg16.py',\n",
              " '08_Transfer_Learning.ipynb',\n",
              " '.gitignore',\n",
              " '02_Convolutional_Neural_Network.ipynb',\n",
              " '05_Ensemble_Learning.ipynb',\n",
              " '19_Hyper-Parameters.ipynb',\n",
              " 'europarl.py',\n",
              " 'knifey.py',\n",
              " 'coco.py',\n",
              " '22_Image_Captioning.ipynb',\n",
              " '03B_Layers_API.ipynb',\n",
              " 'cache.py',\n",
              " '13B_Visual_Analysis_MNIST.ipynb',\n",
              " '03_PrettyTensor.ipynb',\n",
              " 'images',\n",
              " '.github',\n",
              " '01_Simple_Linear_Model.ipynb',\n",
              " '06_CIFAR-10.ipynb',\n",
              " 'weather.py',\n",
              " '07_Inception_Model.ipynb',\n",
              " '21_Machine_Translation.ipynb',\n",
              " 'cifar10.py',\n",
              " 'download.py']"
            ]
          },
          "metadata": {
            "tags": []
          },
          "execution_count": 6
        }
      ]
    },
    {
      "metadata": {
        "id": "fDCSP0a9TzQJ",
        "colab_type": "code",
        "colab": {}
      },
      "cell_type": "code",
      "source": [
        ""
      ],
      "execution_count": 0,
      "outputs": []
    }
  ]
}